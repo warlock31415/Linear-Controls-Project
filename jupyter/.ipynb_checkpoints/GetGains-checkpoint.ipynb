{
 "cells": [
  {
   "cell_type": "markdown",
   "id": "60dcfeb2-b50b-49ff-b376-666d1c93c633",
   "metadata": {},
   "source": [
    "**Set the parameters to create an “unstable” system and apply “constant\n",
    "gain negative state-feedback” to make the system stable.**"
   ]
  },
  {
   "cell_type": "code",
   "execution_count": 1,
   "id": "8e31cdff-5463-4f72-b00f-67908b64c6db",
   "metadata": {},
   "outputs": [],
   "source": [
    "import control\n",
    "import numpy as np\n",
    "from pandas import DataFrame"
   ]
  },
  {
   "cell_type": "code",
   "execution_count": 2,
   "id": "4f1e3e79-e9d6-44ac-9f98-6b8f1a2b1f88",
   "metadata": {},
   "outputs": [
    {
     "ename": "NameError",
     "evalue": "name 'np' is not defined",
     "output_type": "error",
     "traceback": [
      "\u001b[0;31m---------------------------------------------------------------------------\u001b[0m",
      "\u001b[0;31mNameError\u001b[0m                                 Traceback (most recent call last)",
      "Input \u001b[0;32mIn [2]\u001b[0m, in \u001b[0;36m<cell line: 1>\u001b[0;34m()\u001b[0m\n\u001b[0;32m----> 1\u001b[0m A \u001b[38;5;241m=\u001b[39m \u001b[43mnp\u001b[49m\u001b[38;5;241m.\u001b[39marray([[\u001b[38;5;241m0\u001b[39m,\u001b[38;5;241m1\u001b[39m,\u001b[38;5;241m0\u001b[39m,\u001b[38;5;241m0\u001b[39m],[\u001b[38;5;241m0\u001b[39m,\u001b[38;5;241m0\u001b[39m,\u001b[38;5;241m-\u001b[39m\u001b[38;5;241m1\u001b[39m,\u001b[38;5;241m0\u001b[39m],[\u001b[38;5;241m0\u001b[39m,\u001b[38;5;241m0\u001b[39m,\u001b[38;5;241m0\u001b[39m,\u001b[38;5;241m1\u001b[39m],[\u001b[38;5;241m0\u001b[39m,\u001b[38;5;241m0\u001b[39m,\u001b[38;5;241m5\u001b[39m,\u001b[38;5;241m0\u001b[39m]])\n\u001b[1;32m      2\u001b[0m B \u001b[38;5;241m=\u001b[39m np\u001b[38;5;241m.\u001b[39marray([[\u001b[38;5;241m0\u001b[39m],[\u001b[38;5;241m1\u001b[39m],[\u001b[38;5;241m0\u001b[39m],[\u001b[38;5;241m-\u001b[39m\u001b[38;5;241m2\u001b[39m]])\n\u001b[1;32m      3\u001b[0m C \u001b[38;5;241m=\u001b[39m np\u001b[38;5;241m.\u001b[39marray([\u001b[38;5;241m1\u001b[39m,\u001b[38;5;241m0\u001b[39m,\u001b[38;5;241m0\u001b[39m,\u001b[38;5;241m0\u001b[39m])\n",
      "\u001b[0;31mNameError\u001b[0m: name 'np' is not defined"
     ]
    }
   ],
   "source": [
    "A = np.array([[0,1,0,0],[0,0,-1,0],[0,0,0,1],[0,0,5,0]])\n",
    "B = np.array([[0],[1],[0],[-2]])\n",
    "C = np.array([1,0,0,0])\n",
    "D = 0"
   ]
  },
  {
   "cell_type": "code",
   "execution_count": null,
   "id": "c050ad57-e7e4-44ab-81da-bc13b1a3db14",
   "metadata": {},
   "outputs": [],
   "source": [
    "sys = control.ss(A,B,C,D)\n",
    "r = control.rlocus(sys)"
   ]
  },
  {
   "cell_type": "markdown",
   "id": "5ac241f5-69d5-464d-84fc-bb6df7372f6d",
   "metadata": {},
   "source": [
    "As can be seen, there are poles on the left half plane. Thus the system is unstable. Let us arbritrarily pick 4 poles such that the system can be made stable for some forward gain. Let the chosen poles be at (-5±j) and (-3±5j)."
   ]
  },
  {
   "cell_type": "code",
   "execution_count": null,
   "id": "d1d9fc6e-df8c-4646-b4f5-54c8e6b0117d",
   "metadata": {},
   "outputs": [],
   "source": [
    "poles = [-5+1j,-5-1j,-3+5j,-3-5j]\n",
    "k = control.place(A,B,poles)\n",
    "print(k)"
   ]
  },
  {
   "cell_type": "code",
   "execution_count": null,
   "id": "99f945d2-c232-4c9c-a322-b18e9c871878",
   "metadata": {},
   "outputs": [],
   "source": [
    "Afb = (A-np.dot(B,k))\n",
    "sysfb = control.ss(Afb,B,C,D)\n",
    "\n",
    "r = control.rlocus(sysfb,xlim=[-6,3],ylim=[-10,10])"
   ]
  },
  {
   "cell_type": "code",
   "execution_count": null,
   "id": "e2443953-e1de-4a45-9771-953c1d53211c",
   "metadata": {},
   "outputs": [],
   "source": [
    "print(Afb)"
   ]
  },
  {
   "cell_type": "code",
   "execution_count": null,
   "id": "e77682f5-d7de-4871-bf54-ccb4c1e4be92",
   "metadata": {},
   "outputs": [],
   "source": []
  }
 ],
 "metadata": {
  "kernelspec": {
   "display_name": "Python 3 (ipykernel)",
   "language": "python",
   "name": "python3"
  },
  "language_info": {
   "codemirror_mode": {
    "name": "ipython",
    "version": 3
   },
   "file_extension": ".py",
   "mimetype": "text/x-python",
   "name": "python",
   "nbconvert_exporter": "python",
   "pygments_lexer": "ipython3",
   "version": "3.9.10"
  }
 },
 "nbformat": 4,
 "nbformat_minor": 5
}
