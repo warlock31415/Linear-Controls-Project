{
 "cells": [
  {
   "cell_type": "code",
   "execution_count": 43,
   "id": "8585e273-740f-4d7f-941e-71751e03ec8c",
   "metadata": {},
   "outputs": [],
   "source": [
    "from sympy import *"
   ]
  },
  {
   "cell_type": "code",
   "execution_count": 152,
   "id": "3e60a4d5-17e6-4d3f-a403-b52c1d5200fa",
   "metadata": {},
   "outputs": [
    {
     "data": {
      "text/latex": [
       "$\\displaystyle \\left[\\begin{matrix}1 & 0 & 0 & 0\\end{matrix}\\right]$"
      ],
      "text/plain": [
       "Matrix([[1, 0, 0, 0]])"
      ]
     },
     "execution_count": 152,
     "metadata": {},
     "output_type": "execute_result"
    }
   ],
   "source": [
    "M,m,l,g = symbols('M m l g')\n",
    "#g = 9.81\n",
    "\n",
    "A = Matrix([[0,1,0,0],[0,0,-(m*g)/M,0],[0,0,0,1],[0,0,(M+m)*g/(M*l),0]]) #A is a system matrix.\n",
    "B = Matrix([0,1/M,0,-1/(M*l)]) #B is an input matrix.\n",
    "C = Matrix([1,0,0,0])\n",
    "C = C.T"
   ]
  },
  {
   "cell_type": "code",
   "execution_count": 145,
   "id": "61efe2a7-4f60-42d8-8b55-7ca65e59b923",
   "metadata": {},
   "outputs": [],
   "source": [
    "Ctrb = B\n",
    "Ctrb = Ctrb.col_insert(1,A*B)\n",
    "Ctrb = Ctrb.col_insert(2,A*A*B)\n",
    "Ctrb = Ctrb.col_insert(3,A*A*A*B)"
   ]
  },
  {
   "cell_type": "code",
   "execution_count": 146,
   "id": "0564aada-c2ed-477f-9ada-88f6b713a8ac",
   "metadata": {},
   "outputs": [
    {
     "data": {
      "text/latex": [
       "$\\displaystyle \\frac{g^{2}}{M^{4} l^{4}}$"
      ],
      "text/plain": [
       "g**2/(M**4*l**4)"
      ]
     },
     "execution_count": 146,
     "metadata": {},
     "output_type": "execute_result"
    }
   ],
   "source": [
    "Ctrb_det = Ctrb.det()\n",
    "Ctrb_det"
   ]
  },
  {
   "cell_type": "code",
   "execution_count": 147,
   "id": "7f4e8ceb-d308-46b4-902e-fcbbaaedd7f6",
   "metadata": {},
   "outputs": [],
   "source": [
    "Obs = C\n",
    "Obs = Obs.row_insert(1,C*A)\n",
    "Obs = Obs.row_insert(2,C*A*A)\n",
    "Obs = Obs.row_insert(3,C*A*A*A)\n"
   ]
  },
  {
   "cell_type": "code",
   "execution_count": 148,
   "id": "d5cf9279-cd53-4660-b493-b470e635285b",
   "metadata": {},
   "outputs": [
    {
     "data": {
      "text/latex": [
       "$\\displaystyle \\frac{g^{2} m^{2}}{M^{2}}$"
      ],
      "text/plain": [
       "g**2*m**2/M**2"
      ]
     },
     "execution_count": 148,
     "metadata": {},
     "output_type": "execute_result"
    }
   ],
   "source": [
    "Obs_det = Obs.det()\n",
    "Obs_det"
   ]
  },
  {
   "cell_type": "code",
   "execution_count": 153,
   "id": "40b5ac5b-38a8-47d6-a95c-b75218ee6f44",
   "metadata": {},
   "outputs": [
    {
     "name": "stdout",
     "output_type": "stream",
     "text": [
      "96.2361000000000\n",
      "24.0590250000000\n"
     ]
    }
   ],
   "source": [
    "mv = 1     # mass of the pendulum.\n",
    "Mv = 2     # mass of the cart.\n",
    "gv = 9.81  # gravity.\n",
    "lv = 0.5 \n",
    "values = {m:mv,M:Mv,g:gv,l:lv}\n",
    "print(Ctrb_det.evalf(subs=values))\n",
    "print(Obs_det.evalf(subs=values))"
   ]
  },
  {
   "cell_type": "markdown",
   "id": "a593c8e0-d8d5-43ef-9040-9e8cd531b456",
   "metadata": {},
   "source": [
    "Looks like the system is always controllable for all values of M,m,l and g. The system is observable only if the coefficient of state $x_1$ is non zero in the output equation"
   ]
  },
  {
   "cell_type": "code",
   "execution_count": null,
   "id": "c3452abc-9f16-4d1c-b8a9-a924fc309a78",
   "metadata": {},
   "outputs": [],
   "source": []
  }
 ],
 "metadata": {
  "kernelspec": {
   "display_name": "Python 3 (ipykernel)",
   "language": "python",
   "name": "python3"
  },
  "language_info": {
   "codemirror_mode": {
    "name": "ipython",
    "version": 3
   },
   "file_extension": ".py",
   "mimetype": "text/x-python",
   "name": "python",
   "nbconvert_exporter": "python",
   "pygments_lexer": "ipython3",
   "version": "3.9.10"
  }
 },
 "nbformat": 4,
 "nbformat_minor": 5
}
