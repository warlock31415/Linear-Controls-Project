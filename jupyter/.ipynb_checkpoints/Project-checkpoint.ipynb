{
 "cells": [
  {
   "cell_type": "markdown",
   "id": "7f4ae450-9291-4396-b2a2-8b18f5726137",
   "metadata": {},
   "source": [
    "# Introduction\n",
    "\n",
    "An inverted pendulum is a system where a mass is rigidly attached to a linearly moving platform. The platform can thus move in a 2-D plane so as to balance the attached mass at fixed angle to the plane of motion. The system is shown in Figure 1\n",
    "\n",
    "![Inverted Pendulum](./Figures/InvertedPendulum.png)\n",
    "\n",
    "In this work, we will look at the properties of the system and check to see if the system can be made controllable by either using Kalman decomposition or pole placement"
   ]
  },
  {
   "cell_type": "markdown",
   "id": "ad0c4010-498d-4204-a19c-65e2c0ab1b1f",
   "metadata": {},
   "source": [
    "# Literature Review\n",
    "\n",
    "The course textbook [1] describes the mathematics in deriving the state space equations that represent the system. \n",
    "The equations for the system are given by:\n",
    "$$\n",
    "\\begin{bmatrix}\n",
    "    \\dot{x_1}(t)\\\\\n",
    "    \\dot{x_2}(t)\\\\\n",
    "    \\dot{x_3}(t)\\\\\n",
    "    \\dot{x_4}(t)\\\\\n",
    "\\end{bmatrix}=\\begin{bmatrix}\n",
    "    0 & 1 & 0 & 0 \\\\\n",
    "    0 & 0 & \\frac{-mg}{M} & 0 \\\\\n",
    "    0 & 0 & 0 & 1 \\\\\n",
    "    0 & 0 & \\frac{(M+m)g}{Ml} & 0\n",
    "    \\end{bmatrix}\\begin{bmatrix}\n",
    "    x_1 \\\\\n",
    "    x_2 \\\\\n",
    "    x_3 \\\\\n",
    "    x_4 \\\\\n",
    "    \\end{bmatrix} + \\begin{bmatrix}\n",
    "    0 \\\\ \\frac{1}{M} \\\\ 0 \\\\ \\frac{-1}{Ml}\n",
    "    \\end{bmatrix} u(t) \n",
    "    \\\\\n",
    "    y(t) = \\begin{bmatrix}\n",
    "    1 & 0 & 0 & 0\n",
    "    \\end{bmatrix}\\mathbf{x}(t)\n",
    "$$\n",
    "where $ x_1(t) = y(t), x_2(t)=\\dot{y}(t),x_3(t) =\\theta(t), \\mathrm{and\\ } x_4(t)=\\dot{\\theta}(t)$. As the goal of the system is to maintain the attached mass in an upright postion, these equations are only valid for $\\theta \\rightarrow 0$. Furthermore, the output is only set to the distance, $y$, the cart needs to move from the starting point.\n",
    "\n",
    "A more realistic model is given in [2]. This model accounts for friction between the cart wheels and the ground.\n",
    "\n",
    "$$\n",
    "\\begin{bmatrix}\n",
    "    \\dot{x_1}(t)\\\\\n",
    "    \\dot{x_2}(t)\\\\\n",
    "    \\dot{x_3}(t)\\\\\n",
    "    \\dot{x_4}(t)\\\\\n",
    "\\end{bmatrix} = \\begin{bmatrix}\n",
    "    0 & 1 & 0 & 0 \\\\\n",
    "    0 & \\frac{-(I+ml^2)\\mu}{I(M+m)+Mml^2} & \\frac{m^2gl^2}{I(M+m)+Mml^2} &  0\\\\\n",
    "    0 &      0      &        0    &       1\\\\\n",
    "    0 &  \\frac{-(ml\\mu)}{I(M+m)+Mml^2}  &     \\frac{mgl(M+m)}{I(M+m)+Mml^2} &  0 \n",
    "\\end{bmatrix}\\begin{bmatrix}\n",
    "    x_1 \\\\\n",
    "    x_2 \\\\\n",
    "    x_3 \\\\\n",
    "    x_4 \\\\\n",
    "    \\end{bmatrix}+ \\begin{bmatrix}\n",
    "    0 \\\\ \\frac{I+ml^2}{I(M+m)+Mml^2} \\\\ 0 \\\\ \\frac{ml}{I(M+m)+Mml^2}\n",
    "    \\end{bmatrix} u(t) \\\\\n",
    "    y(t) = \\begin{bmatrix}\n",
    "    1 & 0 & 0 & 0\\\\\n",
    "    0 & 0 & 1 & 0\n",
    "    \\end{bmatrix}\\mathbf{x}(t)\n",
    "$$\n",
    "where, $I$ is the moment of inertia of the pendulum and $\\mu$ is the coefficient of friction between the ground and the cart's wheels.\n",
    "\n",
    "For analysis, the first model is chosen for its simplicity"
   ]
  },
  {
   "cell_type": "markdown",
   "id": "6d2fbc9c-d0b5-43dc-b67f-4f194deaa671",
   "metadata": {},
   "source": [
    "# Code and system"
   ]
  },
  {
   "cell_type": "markdown",
   "id": "34bf1dd7-d27b-42f8-ab05-2c214e4ec3b6",
   "metadata": {},
   "source": [
    "## Part I\n",
    "***Set the Parameters to ensure the system is controllable and observable. Prove the system is controllable and observable for the chosen paparmeters.***"
   ]
  },
  {
   "cell_type": "code",
   "execution_count": 1,
   "id": "c7c8fe93-1d2c-46ad-8a83-f782b95b9f7a",
   "metadata": {
    "jupyter": {
     "source_hidden": true
    }
   },
   "outputs": [],
   "source": [
    "from control import *\n",
    "import numpy as np\n",
    "#%matplotlib\n",
    "import matplotlib.pyplot as plt\n",
    "from matplotlib import cm\n",
    "import sympy as sym\n",
    "from IPython.display import display, Markdown\n",
    "from matplotlib.ticker import LinearLocator\n",
    "\n",
    "from control.matlab import *\n",
    "plt.rcParams['figure.figsize'] = [10, 10]"
   ]
  },
  {
   "cell_type": "markdown",
   "id": "78a73541-6039-4a63-aff1-9dfb73f8fe53",
   "metadata": {},
   "source": [
    "Set parameters for the inverted pendulum: Let \n",
    "$$\n",
    "    g = 9.8 \\mathrm{\\ m/s^2} \\\\\n",
    "    M = 2 \\mathrm{\\ kg} \\\\\n",
    "    m = 1 \\mathrm{\\ kg} \\\\\n",
    "    l = 0.5 \\mathrm{\\ m}\\\\\n",
    "$$"
   ]
  },
  {
   "cell_type": "code",
   "execution_count": 2,
   "id": "0a09058c-9cfd-4a68-919b-527be54cadd0",
   "metadata": {
    "jupyter": {
     "source_hidden": true
    }
   },
   "outputs": [],
   "source": [
    "m = 1 # mass of the pendulum.\n",
    "M = 2 # mass of the cart.\n",
    "g = 9.81 # gravity.\n",
    "l = 0.5 # length of the pendulum.\n",
    "\n",
    "A = np.array([[0,1,0,0],[0,0,-(m*g)/M,0],[0,0,0,1],[0,0,(M+m)*g/(M*l),0]]) #A is a system matrix.\n",
    "B = np.array([[0],[1/M],[0],[-1/(M*l)]]) #B is an input matrix.\n",
    "C = np.array([1,0,0,0]) #C is an Output matrix.\n",
    "D = 0 #D is a Transmission matrix"
   ]
  },
  {
   "cell_type": "markdown",
   "id": "65a1dfd9-dad5-4d02-b03c-50aae4a2a6db",
   "metadata": {},
   "source": [
    "### Check the Controllabilty:"
   ]
  },
  {
   "cell_type": "code",
   "execution_count": 3,
   "id": "56021d19-8e12-40b6-b914-99b434bc2301",
   "metadata": {
    "jupyter": {
     "source_hidden": true
    }
   },
   "outputs": [
    {
     "name": "stdout",
     "output_type": "stream",
     "text": [
      "System is Controllable.\n",
      "96.2361\n"
     ]
    }
   ],
   "source": [
    "Co = ctrb(A,B)                          # Get the controlability matrix\n",
    "rows,columns = np.shape(Co)\n",
    "R1 = np.linalg.matrix_rank(Co)          # Get the rank of the controllability matrix\n",
    "if R1 == rows :                         # Check if matrix has full row rank \n",
    "    print(\"System is Controllable.\")\n",
    "    de1 = np.linalg.det(Co)\n",
    "    print(de1) \n",
    "else:\n",
    "    print(\"System is not Controllable\")"
   ]
  },
  {
   "cell_type": "markdown",
   "id": "1aab391e-51ee-46b7-8748-edbbb287f010",
   "metadata": {},
   "source": [
    "As can be seen, the system is controllabe since the controlability matrix $\\mathcal{C}_o$ has full row rank. Further, the determinant of matrix $\\mathcal{C}_o$ is non zero. "
   ]
  },
  {
   "cell_type": "markdown",
   "id": "ec2d5fc9-32c6-4f91-a839-6537a8da57b9",
   "metadata": {},
   "source": [
    "### Check the Observability:"
   ]
  },
  {
   "cell_type": "code",
   "execution_count": 4,
   "id": "ecf89a53-a0cb-4325-966c-b37a09d9bf2c",
   "metadata": {
    "jupyter": {
     "source_hidden": true
    }
   },
   "outputs": [
    {
     "name": "stdout",
     "output_type": "stream",
     "text": [
      "System is observable.\n",
      "24.059025000000005\n"
     ]
    }
   ],
   "source": [
    "Obs = obsv(A,C)                    # Get the observability matrix\n",
    "rows,columns = np.shape(Obs)\n",
    "R2=np.linalg.matrix_rank(Obs)      # Get the rank of the observability matrix\n",
    "if R2 == rows:                     # Check if matrix has full row rank\n",
    "    print(\"System is observable.\")\n",
    "    de2 = np.linalg.det(Obs)\n",
    "    print(de2) \n",
    "else:\n",
    "    print(\"System is not Observable\")"
   ]
  },
  {
   "cell_type": "markdown",
   "id": "cbfcf955-4f21-4772-b41f-dc985fc50dfc",
   "metadata": {},
   "source": [
    "The system is observable as well. The observability matrix $\\mathcal{O}$ is also full rank. Further, the determinant of matrix $\\mathcal{O}$ is non zero. \n",
    "\n",
    "### Regions of Control\n",
    "The matrix may be controllable and observable for the given values. But to check for values that the system might not be controllable or observable, we can solve for the determinant algebraicly. If the determinant of a matrix is non zero, it can be shown that the rank of the matrix is less than full rank."
   ]
  },
  {
   "cell_type": "code",
   "execution_count": 5,
   "id": "80f275c8-b845-4f18-be3f-bfce5aead9ff",
   "metadata": {
    "jupyter": {
     "source_hidden": true
    }
   },
   "outputs": [],
   "source": [
    "M,m,l = sym.symbols('M m l')\n",
    "\n",
    "A = sym.Matrix([[0,1,0,0],[0,0,-(m*g)/M,0],[0,0,0,1],[0,0,(M+m)*g/(M*l),0]]) #A is a system matrix.\n",
    "B = sym.Matrix([0,1/M,0,-1/(M*l)]) #B is an input matrix.\n",
    "C = sym.Matrix([1,0,0,0])\n",
    "C = C.T"
   ]
  },
  {
   "cell_type": "markdown",
   "id": "555b4831-9ba0-4d94-b780-1e1d1ee587ae",
   "metadata": {},
   "source": [
    "Since we're doing this algebraicly, we need to manually make the controllability and observability matrix. and find the determinant"
   ]
  },
  {
   "cell_type": "code",
   "execution_count": 6,
   "id": "806b5999-627d-43fc-859b-bba38a130c1d",
   "metadata": {
    "jupyter": {
     "source_hidden": true
    }
   },
   "outputs": [
    {
     "data": {
      "text/latex": [
       "$\\displaystyle \\frac{96.2361}{M^{4} l^{4}}$"
      ],
      "text/plain": [
       "96.2361/(M**4*l**4)"
      ]
     },
     "execution_count": 6,
     "metadata": {},
     "output_type": "execute_result"
    }
   ],
   "source": [
    "Ctrb = B\n",
    "Ctrb = Ctrb.col_insert(1,A*B)\n",
    "Ctrb = Ctrb.col_insert(2,A*A*B)\n",
    "Ctrb = Ctrb.col_insert(3,A*A*A*B)\n",
    "Ctrb_det = Ctrb.det()\n",
    "Ctrb_det"
   ]
  },
  {
   "cell_type": "markdown",
   "id": "ce6be66e-e820-443c-9bab-f19d99b258f1",
   "metadata": {},
   "source": [
    "This shows that the system is un-controllable for values of $M \\ \\mathrm{and}\\  l \\rightarrow \\infty$\n",
    "\n",
    "<img src=\"Figures/Controllability.png\" alt=\"drawing\" width=\"1200\"/>"
   ]
  },
  {
   "cell_type": "code",
   "execution_count": 7,
   "id": "35ec0f69-54f6-4ff9-a222-1d368f3da922",
   "metadata": {
    "jupyter": {
     "source_hidden": true
    }
   },
   "outputs": [
    {
     "data": {
      "text/latex": [
       "$\\displaystyle \\frac{96.2361 m^{2}}{M^{2}}$"
      ],
      "text/plain": [
       "96.2361*m**2/M**2"
      ]
     },
     "execution_count": 7,
     "metadata": {},
     "output_type": "execute_result"
    }
   ],
   "source": [
    "Obs = C\n",
    "Obs = Obs.row_insert(1,C*A)\n",
    "Obs = Obs.row_insert(2,C*A*A)\n",
    "Obs = Obs.row_insert(3,C*A*A*A)\n",
    "Obs_det = Obs.det()\n",
    "Obs_det"
   ]
  },
  {
   "cell_type": "markdown",
   "id": "7756a9b7-7b3a-4032-832a-550945bcc127",
   "metadata": {},
   "source": [
    "This shows that the system is un-observable for values of $M \\rightarrow \\infty$ or $m = 0$\n",
    "\n",
    "<img src=\"Figures/Observability.png\" alt=\"drawing\" width=\"1200\"/>"
   ]
  },
  {
   "cell_type": "markdown",
   "id": "de937c2a-bd15-4d3e-9337-afd2c7577aca",
   "metadata": {},
   "source": [
    "## Part II\n",
    "***Set the parameters to create an \"uncontrollable\" form and use Kalman Decomposition to obtain the controllable form.***\n",
    "\n",
    "For this part, the first step was to figure out what values of parameters would make the system uncontrollable. If the rank of the controllability matrix was forced to \n",
    "be made less than the full rank, the system would become uncontrollable. The following code calculates the controllability matrix of the given system. "
   ]
  },
  {
   "cell_type": "code",
   "execution_count": 8,
   "id": "9d0388ae-54b7-47fa-b4c2-df960fd78c49",
   "metadata": {
    "jupyter": {
     "source_hidden": true
    }
   },
   "outputs": [
    {
     "data": {
      "image/png": "[encoded data removed]",
      "text/latex": [
       "$\\displaystyle \\left[\\begin{matrix}0 & \\frac{1}{M} & 0 & \\frac{g m}{M^{2} l}\\\\\\frac{1}{M} & 0 & \\frac{g m}{M^{2} l} & 0\\\\0 & - \\frac{1}{M l} & 0 & - \\frac{g \\left(M + m\\right)}{M^{2} l^{2}}\\\\- \\frac{1}{M l} & 0 & - \\frac{g \\left(M + m\\right)}{M^{2} l^{2}} & 0\\end{matrix}\\right]$"
      ],
      "text/plain": [
       "⎡      1                   g⋅m     ⎤\n",
       "⎢ 0    ─        0          ────    ⎥\n",
       "⎢      M                    2      ⎥\n",
       "⎢                          M ⋅l    ⎥\n",
       "⎢                                  ⎥\n",
       "⎢ 1           g⋅m                  ⎥\n",
       "⎢ ─    0      ────           0     ⎥\n",
       "⎢ M            2                   ⎥\n",
       "⎢             M ⋅l                 ⎥\n",
       "⎢                                  ⎥\n",
       "⎢     -1                -g⋅(M + m) ⎥\n",
       "⎢ 0   ───       0       ───────────⎥\n",
       "⎢     M⋅l                   2  2   ⎥\n",
       "⎢                          M ⋅l    ⎥\n",
       "⎢                                  ⎥\n",
       "⎢-1        -g⋅(M + m)              ⎥\n",
       "⎢───   0   ───────────       0     ⎥\n",
       "⎢M⋅l           2  2                ⎥\n",
       "⎣             M ⋅l                 ⎦"
      ]
     },
     "execution_count": 8,
     "metadata": {},
     "output_type": "execute_result"
    }
   ],
   "source": [
    "# This is for nice looking latex output\n",
    "sym.init_printing()\n",
    "\n",
    "# Defining our system matrices\n",
    "m, M, l, g = sym.symbols('m M l g')\n",
    "\n",
    "A = sym.Matrix([[0, 1, 0, 0],\n",
    "               [0, 0, -m*g/M, 0],\n",
    "               [0, 0, 0, 1],\n",
    "               [0, 0, (M+m)*g/(M*l), 0]])\n",
    "\n",
    "B = sym.Matrix([[0],\n",
    "               [1/M],\n",
    "               [0],\n",
    "               [-1/(M*l)]])\n",
    "\n",
    "C = sym.Matrix([[1, 0, 0, 0]])\n",
    "\n",
    "# This function returns True if the parameter num is a float. False, otherwise.\n",
    "def isfloat(num):\n",
    "    try:\n",
    "        float(num)\n",
    "        return True\n",
    "    except ValueError:\n",
    "        return False\n",
    "\n",
    "# This function returns whether or not a particular matrix is controllable. The matrices must only be symbolic matrices. \n",
    "# It also returns the controllability matrix. \n",
    "def controllable_sym(A, B, dim=4):\n",
    "    cols = B\n",
    "    \n",
    "    for i in range(1, dim):\n",
    "        col = sym.Matrix([[(A**i)*B]])\n",
    "        cols = cols.col_insert(i, col)\n",
    "    \n",
    "    if(cols.rank() == dim):\n",
    "        return True, cols\n",
    "    else:\n",
    "        return False, cols\n",
    "    \n",
    "\n",
    "controllable, cont_matrix = controllable_sym(A, B)\n",
    "\n",
    "# displaying the controllability Matrix\n",
    "cont_matrix"
   ]
  },
  {
   "cell_type": "markdown",
   "id": "ad99a9c9-e695-481d-bf48-15ad5ea76225",
   "metadata": {},
   "source": [
    "The goal now is to make column 1 equal to column 3. (1 indexed)\n",
    "\n",
    "We can to by the following 2 rules:\n",
    "\n",
    "$$ m >>> M $$\n",
    "\n",
    "$$ M = \\frac{g*m}{l} $$\n",
    "\n",
    "In the following code, we will define the variables according to the above rules and verify that this new system is, in fact, uncontrollable. "
   ]
  },
  {
   "cell_type": "code",
   "execution_count": 9,
   "id": "ef2075e4-1b0e-46d8-97bb-8ff5f9b0c985",
   "metadata": {
    "jupyter": {
     "source_hidden": true
    }
   },
   "outputs": [
    {
     "name": "stdout",
     "output_type": "stream",
     "text": [
      "controllable? False\n"
     ]
    },
    {
     "data": {
      "image/png": "[encoded data removed]",
      "text/latex": [
       "$\\displaystyle \\left[\\begin{matrix}0 & 0.1 & 0 & 0.1\\\\0.1 & 0 & 0.1 & 0\\\\0 & 0 & 0 & 0\\\\0 & 0 & 0 & 0\\end{matrix}\\right]$"
      ],
      "text/plain": [
       "⎡ 0   0.1   0   0.1⎤\n",
       "⎢                  ⎥\n",
       "⎢0.1   0   0.1   0 ⎥\n",
       "⎢                  ⎥\n",
       "⎢ 0    0    0    0 ⎥\n",
       "⎢                  ⎥\n",
       "⎣ 0    0    0    0 ⎦"
      ]
     },
     "execution_count": 9,
     "metadata": {},
     "output_type": "execute_result"
    }
   ],
   "source": [
    "# This function checks to see if a numerical matrix consisting of floats is controllable. \n",
    "# It returns the boolean value along with the controllability matrix. \n",
    "def controllable(A, B, dim=4):\n",
    "    cols = B\n",
    "    \n",
    "    for i in range(1, dim):\n",
    "        col = sym.Matrix([[(A**i)*B]])\n",
    "        cols = cols.col_insert(i, col)\n",
    "    \n",
    "    r, c = sym.shape(cols)\n",
    "    \n",
    "    for i in range(r*c):\n",
    "        if(isfloat(cols[i])):\n",
    "            cols[i] = round(cols[i], 2)\n",
    "    \n",
    "    if(cols.rank() == dim):\n",
    "        return True, cols\n",
    "    else:\n",
    "        return False, cols\n",
    "\n",
    "calc_m = 10000\n",
    "calc_g = 9.8\n",
    "calc_l = 9900\n",
    "calc_M = (calc_g*calc_m)/(calc_l)\n",
    "\n",
    "\n",
    "new_A = A.evalf(subs={m:calc_m, M:calc_M, l:calc_l , g:calc_g})\n",
    "new_B = B.evalf(subs={m:calc_m, M:calc_M, l:calc_l , g:calc_g})\n",
    "new_C = C.evalf(subs={m:calc_m, M:calc_M, l:calc_l , g:calc_g})\n",
    "\n",
    "new_controllable, new_cont_matrix = controllable(new_A, new_B)\n",
    "\n",
    "print(\"controllable?\", new_controllable)\n",
    "\n",
    "# display the new controllability matrix \n",
    "new_cont_matrix"
   ]
  },
  {
   "cell_type": "code",
   "execution_count": 10,
   "id": "88b075e9-f8e6-40da-86d9-c480a687a2a3",
   "metadata": {
    "jupyter": {
     "source_hidden": true
    }
   },
   "outputs": [
    {
     "name": "stdout",
     "output_type": "stream",
     "text": [
      "Rank of the above Controllable Matrix: 2\n"
     ]
    }
   ],
   "source": [
    "print(\"Rank of the above Controllable Matrix:\", new_cont_matrix.rank())"
   ]
  },
  {
   "cell_type": "markdown",
   "id": "446da7eb-3800-4a60-a1f1-892efd096061",
   "metadata": {},
   "source": [
    "### Kalman Decomposition\n",
    "\n",
    "Since the rank of this new matrix is 2 (less than 4), the new system is not controllable. We can make it controllable using the method of Kalman Decomposition. \n",
    "Let's understand the Kalman Decomposition Process. \n",
    "\n",
    "1. We generate a matrix Q using the controllability matrix such that Q is inversible. Since the rank of our controllability matrix was 2, we will use 2 linearly \n",
    "   independent columns of the controllability matrix as the first 2 columns of Q. We will then fill in the rest of Q such that Q is invertible. In our code, we will \n",
    "   simply find the nullspace of the 2 vectors we get from the controllability matrix. \n",
    "   \n",
    "    $$Q = \\begin{bmatrix} 0 & 0.1 & 0 & 0 \\\\ 0.1 & 0 & 0 & 0 \\\\ 0 & 0 & 1 & 0\\\\ 0 & 0 & 0 & 1 \\end{bmatrix}$$\n",
    "\n",
    "2. Find P \n",
    "\n",
    "    $$ P = Q^{-1} $$\n",
    "\n",
    "3. Find $ \\bar{A} $ , $ \\bar{B} $, $ \\bar{C} $ with the following formulae:\n",
    "    \n",
    "    $$ \\bar{A} = PAP^{-1} $$\n",
    "    $$ \\bar{B} = PB $$\n",
    "    $$ \\bar{C} = CP^{-1} $$\n",
    "\n",
    "4. Finally, we pick the 2x2 top left of $ \\bar{A} $ (2x2 because A is a square matrix and the rank of our original controllability matrix was 2) and name it $ A_c $. \n",
    "   We pick 2x1 of the $ \\bar{B} $ and name it $ B_c $. And we pick 1x2 of the $ \\bar{C} $ and name it $ C_c $\n",
    "   \n",
    "These new matrices that we found, $ A_c $, $ B_c $, $ C_c $, make up the new representation of the system that is controllable. Now that we've got the theory down, \n",
    "let's code it up and see the results. \n",
    "   \n",
    "   $$ \\dot{x} = A_c x(t) + B_c u(t) $$\n",
    "   $$ y = C_c x(t) $$ "
   ]
  },
  {
   "cell_type": "code",
   "execution_count": 11,
   "id": "c42d79ff-d71a-41fa-8f60-83a5a9d350fe",
   "metadata": {
    "jupyter": {
     "source_hidden": true
    }
   },
   "outputs": [],
   "source": [
    "# This function find the nullspace of the passed in matrix and adds the nullspace to the matrix. This new matrix is now invertible. \n",
    "def fill_square_with_identity(A):\n",
    "    row, col = sym.shape(A)\n",
    "    \n",
    "    if(row == col):\n",
    "        return A\n",
    "    \n",
    "    else:\n",
    "        if( col < row ):\n",
    "            tempA = A\n",
    "            for i, c in enumerate(A.T.nullspace()):\n",
    "                A = A.col_insert(tempA.rank()+i, c)\n",
    "            \n",
    "            return A\n",
    "                    \n",
    "        else:\n",
    "           print(\"something went wrong\")\n",
    "           return False\n",
    "        \n",
    "    \n",
    "# This function performs the Kalman Decomposition using the passed in matrices. It returns the controllable matrices, namely Ac, Bc and Cc. \n",
    "def kalman_decomposition(A, B, controllability_matrix):\n",
    "    \n",
    "    rank = controllability_matrix.rank()\n",
    "    # assuming that rank is atleast 1\n",
    "    Q = controllability_matrix.col(0)\n",
    "    \n",
    "    for i in range(1, rank):\n",
    "        Q = Q.col_insert(i, controllability_matrix.col(i))\n",
    "    \n",
    "    Q = fill_square_with_identity(Q)\n",
    "        \n",
    "    if( not(Q) ):\n",
    "        return False\n",
    "\n",
    "    P = Q.inv()\n",
    "    A_bar = P*A*P.inv()\n",
    "    B_bar = P*B\n",
    "    C_bar = C*P.inv()\n",
    "    \n",
    "    Ac = sym.Matrix([A_bar[:rank, :rank]])\n",
    "    Bc = sym.Matrix([B_bar[:rank]]).T\n",
    "    Cc = sym.Matrix([C_bar[:rank]])\n",
    "    \n",
    "    if(not(controllable(Ac, Bc, rank))):\n",
    "        print(\"Kalman Decomposition Failed.\")\n",
    "        return False\n",
    "        \n",
    "    return Ac, Bc, Cc\n",
    "\n",
    "Controllable_SS = kalman_decomposition(new_A, new_B, controllable(new_A, new_B)[1])\n",
    "\n",
    "if((Controllable_SS)):\n",
    "    Ac = Controllable_SS[0]\n",
    "    Bc = Controllable_SS[1]\n",
    "    Cc = Controllable_SS[2]\n",
    "else:\n",
    "    print(\"Kalman Decomposition Failed\")"
   ]
  },
  {
   "cell_type": "markdown",
   "id": "ce16aa77-5bc8-440d-a0ef-43100dccdb58",
   "metadata": {},
   "source": [
    "### Results:\n",
    "\n",
    "The following matrices are the results of the Kalman Decomposition:"
   ]
  },
  {
   "cell_type": "code",
   "execution_count": 12,
   "id": "7195f7e3-5568-41f0-8934-36caa7c874a8",
   "metadata": {
    "jupyter": {
     "source_hidden": true
    }
   },
   "outputs": [
    {
     "name": "stdout",
     "output_type": "stream",
     "text": [
      "Ac:\n"
     ]
    },
    {
     "data": {
      "image/png": "[encoded data removed]",
      "text/latex": [
       "$\\displaystyle \\left[\\begin{matrix}0 & 0\\\\0.999755859375 & 0\\end{matrix}\\right]$"
      ],
      "text/plain": [
       "⎡      0         0⎤\n",
       "⎢                 ⎥\n",
       "⎣0.999755859375  0⎦"
      ]
     },
     "execution_count": 12,
     "metadata": {},
     "output_type": "execute_result"
    }
   ],
   "source": [
    "print(\"Ac:\")\n",
    "Ac"
   ]
  },
  {
   "cell_type": "code",
   "execution_count": 13,
   "id": "ee4688ff-60d1-432a-a44b-735cbee777ff",
   "metadata": {
    "jupyter": {
     "source_hidden": true
    }
   },
   "outputs": [
    {
     "name": "stdout",
     "output_type": "stream",
     "text": [
      "Bc:\n"
     ]
    },
    {
     "data": {
      "image/png": "[encoded data removed]",
      "text/latex": [
       "$\\displaystyle \\left[\\begin{matrix}1.01020408163265\\\\0\\end{matrix}\\right]$"
      ],
      "text/plain": [
       "⎡1.01020408163265⎤\n",
       "⎢                ⎥\n",
       "⎣       0        ⎦"
      ]
     },
     "execution_count": 13,
     "metadata": {},
     "output_type": "execute_result"
    }
   ],
   "source": [
    "print(\"Bc:\")\n",
    "Bc"
   ]
  },
  {
   "cell_type": "code",
   "execution_count": 14,
   "id": "3e59998e-aacd-4b2e-b0d1-c87f8d22e609",
   "metadata": {
    "jupyter": {
     "source_hidden": true
    }
   },
   "outputs": [
    {
     "name": "stdout",
     "output_type": "stream",
     "text": [
      "Cc:\n"
     ]
    },
    {
     "data": {
      "image/png": "[encoded data removed]",
      "text/latex": [
       "$\\displaystyle \\left[\\begin{matrix}0 & 0.1\\end{matrix}\\right]$"
      ],
      "text/plain": [
       "[0  0.1]"
      ]
     },
     "execution_count": 14,
     "metadata": {},
     "output_type": "execute_result"
    }
   ],
   "source": [
    "print(\"Cc:\")\n",
    "Cc"
   ]
  },
  {
   "cell_type": "markdown",
   "id": "eae1fd0b-12a7-488e-b007-a48c0a6c77f7",
   "metadata": {},
   "source": [
    "### Checking the Results\n",
    "\n",
    "Finally, we can now check the results by comparing the transfer function generated by our original uncontrollable state space system with the new controllable state\n",
    "space system. "
   ]
  },
  {
   "cell_type": "code",
   "execution_count": 15,
   "id": "54dcf8b7-3cac-4c34-8ac7-25d2ed0ade93",
   "metadata": {
    "jupyter": {
     "source_hidden": true
    }
   },
   "outputs": [
    {
     "name": "stdout",
     "output_type": "stream",
     "text": [
      "uncontrollable system: \n",
      "     0.101 s^2 - 5.36e-17 s - 0.0001\n",
      "-----------------------------------------\n",
      "s^4 - 1.001 s^2 + 3.914e-16 s - 2.441e-17\n",
      "\n",
      "controllable system: \n",
      "0.101\n",
      "-----\n",
      " s^2\n",
      "\n"
     ]
    }
   ],
   "source": [
    "print(\"uncontrollable system:\", ss2tf(new_A, new_B, new_C, sym.Matrix([[0]])))\n",
    "print(\"controllable system:\", ss2tf(Ac, Bc, Cc, sym.Matrix([[0]])))"
   ]
  },
  {
   "cell_type": "markdown",
   "id": "671905c1-a829-465d-a6da-c4ad44161a70",
   "metadata": {},
   "source": [
    "### Conclusion for Part II\n",
    "We can verify that the above transfer functions are the not quite exact, but almost exact. We can confirm that we have found the controllable form out of the\n",
    "uncontrollable form for the system using the kalman Decomposition. "
   ]
  },
  {
   "cell_type": "markdown",
   "id": "e4955864-899f-49f7-a463-9edfadfe7087",
   "metadata": {},
   "source": [
    "## Part III"
   ]
  },
  {
   "cell_type": "markdown",
   "id": "4e638213-cc89-4eb7-8aec-e47f73ef34d4",
   "metadata": {},
   "source": [
    "**Set the parameters to create an “unstable” system. Use “constant \n",
    "gain negative state-feedback” to make the system stable.**\n",
    "\n",
    "We will use the same parameters as we used in the first part to check for stability and generate the needed gains"
   ]
  },
  {
   "cell_type": "code",
   "execution_count": 16,
   "id": "45214b7d-64ab-44b0-bf83-c47bfbd571ad",
   "metadata": {
    "jupyter": {
     "source_hidden": true
    }
   },
   "outputs": [],
   "source": [
    "m = 1     # mass of the pendulum.\n",
    "M = 2     # mass of the cart.\n",
    "g = 9.81  # gravity.\n",
    "l = 0.5   # length of the pendulum."
   ]
  },
  {
   "cell_type": "code",
   "execution_count": 17,
   "id": "0c72f4f2-1ffd-44c8-aa53-6b53332e9c30",
   "metadata": {
    "jupyter": {
     "source_hidden": true
    }
   },
   "outputs": [],
   "source": [
    "A = np.array([[0,1,0,0],[0,0,-(m*g)/M,0],[0,0,0,1],[0,0,(M+m)*g/(M*l),0]])\n",
    "B = np.array([[0],[1/M],[0],[-1/(M*l)]])\n",
    "C = np.array([[1,0,0,0],[0,0,1,0]])\n",
    "D = 0"
   ]
  },
  {
   "cell_type": "markdown",
   "id": "51a09bae-d3d4-421d-8887-aa61cf33c716",
   "metadata": {},
   "source": [
    "### Pole-Zero Map"
   ]
  },
  {
   "cell_type": "code",
   "execution_count": 18,
   "id": "c050ad57-e7e4-44ab-81da-bc13b1a3db14",
   "metadata": {
    "jupyter": {
     "source_hidden": true
    }
   },
   "outputs": [
    {
     "data": {
      "image/png": "[encoded data removed]",
      "text/plain": [
       "<Figure size 720x720 with 1 Axes>"
      ]
     },
     "metadata": {
      "needs_background": "light"
     },
     "output_type": "display_data"
    }
   ],
   "source": [
    "sys_y = ss(A,B,C[0:1],D)\n",
    "r = pzmap(sys_y,xlim=[-10,10],ylim=[-20,20])"
   ]
  },
  {
   "cell_type": "markdown",
   "id": "5ac241f5-69d5-464d-84fc-bb6df7372f6d",
   "metadata": {},
   "source": [
    "As can be seen, there are poles on the left half plane. Thus the system is unstable. "
   ]
  },
  {
   "cell_type": "markdown",
   "id": "0fc92c6e-d2d9-4f7c-b0df-7f26225c143c",
   "metadata": {},
   "source": [
    "### Pole Placement using Matlab\n",
    "\n",
    "Let us arbritrarily pick 4 poles such that the system can be made stable for some forward gain. Let the chosen poles be at (-5±0.5j) and (-6±1j). These poles are fast enough to get us a settling time of $\\lt 0.5$s"
   ]
  },
  {
   "cell_type": "code",
   "execution_count": 19,
   "id": "5a045605-5771-4935-bb83-d69826d8fc10",
   "metadata": {
    "jupyter": {
     "source_hidden": true
    }
   },
   "outputs": [
    {
     "name": "stdout",
     "output_type": "stream",
     "text": [
      "[[ -95.23445464  -68.60346585 -259.29722732  -56.30173293]]\n"
     ]
    }
   ],
   "source": [
    "poles = [-5+0.5j,-5-0.5j,-6-1j,-6+1j]\n",
    "k = place(A,B,poles)\n",
    "print(k)"
   ]
  },
  {
   "cell_type": "markdown",
   "id": "7c8b09ed-8531-4eb8-9e5c-873783c1256d",
   "metadata": {},
   "source": [
    "### Pole Placement using Ackermann's formula\n",
    "\n",
    "Ackermann's formula can be used to easily place poles. The formula is given by:\n",
    "$$\n",
    "    k = [0\\ 0\\ 0\\ ...\\ 1]\\mathcal{C}_o^{-1}\\Delta_{d}(A)\n",
    "$$\n",
    "\n",
    "Where, $\\Delta_d$ is the characteristic equation obtained from the desired eigen values"
   ]
  },
  {
   "cell_type": "code",
   "execution_count": 20,
   "id": "6cd419f8-577a-47af-8fc6-522752de9dfe",
   "metadata": {
    "jupyter": {
     "source_hidden": true
    }
   },
   "outputs": [
    {
     "name": "stdout",
     "output_type": "stream",
     "text": [
      "[[ -95.23445464  -68.60346585 -259.29722732  -56.30173293]]\n"
     ]
    }
   ],
   "source": [
    "# Calculate same gains using Ackermann's formula\n",
    "det_new = np.identity(4)\n",
    "for root in poles:\n",
    "    det_new = np.matmul(det_new,(A-root*np.identity(4)))\n",
    "\n",
    "k_ack = np.matmul(np.matmul(np.array([0,0,0,1]),np.linalg.inv(Co)),det_new)\n",
    "k_ack = np.real(k_ack.reshape((1,4)))\n",
    "print(k_ack)"
   ]
  },
  {
   "cell_type": "markdown",
   "id": "f2c94c55-78cc-4841-8cbe-6110849293fc",
   "metadata": {},
   "source": [
    "## Part IV\n",
    "\n",
    "We can plot the step responses of the the system's outputs, the tilt angle and the $y$ displacement."
   ]
  },
  {
   "cell_type": "markdown",
   "id": "b9af6ad7-5419-4dcf-b023-50c6e69056cf",
   "metadata": {},
   "source": [
    "### Step response\n",
    "\n",
    "The state space equations for the new system are given by:\n",
    "$$\n",
    "    \\dot{x} = (A-Bk)x + Br \\\\\n",
    "    y = Cx + Du\n",
    "$$"
   ]
  },
  {
   "cell_type": "code",
   "execution_count": 21,
   "id": "ef93b8ed-efc9-4f8d-a6b5-af5f93f0ecac",
   "metadata": {
    "jupyter": {
     "source_hidden": true
    }
   },
   "outputs": [
    {
     "data": {
      "image/png": "[encoded data removed]",
      "text/plain": [
       "<Figure size 720x720 with 2 Axes>"
      ]
     },
     "metadata": {
      "needs_background": "light"
     },
     "output_type": "display_data"
    }
   ],
   "source": [
    "Afb = (A-np.matmul(B,k_ack))         # New A matrix with feedback gains K\n",
    "\n",
    "sysfb_y = ss(Afb,B,C[0:1],D)         # State space system with new fedback gains K\n",
    "sysfb_angle = ss(Afb,B,C[1:],D)\n",
    "\n",
    "T = np.arange(0,10,0.05)            \n",
    "\n",
    "fig, ax1 = plt.subplots()\n",
    "ax2 = ax1.twinx()\n",
    "\n",
    "y,T=step(sysfb_y,T)\n",
    "p = ax1.plot(T,y,'b-')\n",
    "\n",
    "y,T = step(sysfb_angle,T)\n",
    "p = ax2.plot(T,y,'g-')\n",
    "\n",
    "e = ax1.grid()\n",
    "e = plt.xlim([0,10])\n",
    "e = ax1.set_ylabel('Cart Position (m)')\n",
    "e = ax2.set_ylabel('Pendulum angle (rads)')\n",
    "e = plt.xlabel('Time (s)')\n",
    "e = plt.title('Inverted Pedulum step response')\n",
    "e = fig.legend(['Cart Position','Pendulum Position'],loc=\"upper right\", bbox_to_anchor=(1,1), bbox_transform=ax1.transAxes)\n",
    "\n",
    "plt.show()"
   ]
  },
  {
   "cell_type": "markdown",
   "id": "8c02c605-14da-4715-8542-f5f6a72f4c7e",
   "metadata": {},
   "source": [
    "### Pole locations of the desired system"
   ]
  },
  {
   "cell_type": "markdown",
   "id": "90eda58a-2f42-4d64-9dfb-336dc3b09adb",
   "metadata": {},
   "source": [
    "We can have a look at pole location again to make sure that the poles ended up where we wanted them. Now the system is stable for some forward gain K"
   ]
  },
  {
   "cell_type": "code",
   "execution_count": 22,
   "id": "ca3e7879-3439-4475-9bcc-7dce1e4b4615",
   "metadata": {
    "jupyter": {
     "source_hidden": true
    }
   },
   "outputs": [
    {
     "data": {
      "image/png": "[encoded data removed]",
      "text/plain": [
       "<Figure size 720x720 with 2 Axes>"
      ]
     },
     "metadata": {
      "needs_background": "light"
     },
     "output_type": "display_data"
    }
   ],
   "source": [
    "fig = plt.figure()\n",
    "ax  = plt.axes()\n",
    "r,k = pzmap(sysfb_y,xlim=[-10,5],ylim=[-10,10],ax=ax)"
   ]
  },
  {
   "cell_type": "markdown",
   "id": "6f77122d-a9ee-483d-a57b-0ec9f1bc9226",
   "metadata": {},
   "source": [
    "# Conclusions\n",
    "The inverted pendulum has been studied extensively in the field of controls. The system is always controllable as long as the values for the parameters are chosen sensibly. For example the mass of the pendulum can't be greater than the mass of the cart itself or physical constants can't be assumed to have values other than are agreed to be accurate by the scientific community. \n",
    "\n",
    "Observability of the the system depends on the output equation. If output is chosen to be either the angle of the pendulum from vertical, the rate of change of the angle or the velocity of the cart, the system becomes unobservable. On the other hand if the output is chosen to be the distance the cart has moved, the system is then controllable.\n",
    "\n",
    "\n",
    "The inverted pendulum system is inherently unstable. The mass at the end of the pendulum will not stay upright on its own accord. This is supposrted by the right half plane pole shown in Fig 2. Thus to balance the mass vertically a feedback system must be used. Feedback gains can be chosen to place the poles on the left half plane so as to achive the requred dynamics. To calculate the feedback gains, the `place` command can be used in Matlab or the Ackermann's formula can also be used. The resulting system is now stable. But in order to use these gais we would need to \n"
   ]
  },
  {
   "cell_type": "markdown",
   "id": "f9c60607-998b-4296-8c9e-1d4f9d3b5883",
   "metadata": {},
   "source": [
    "# References\n",
    "\n",
    "[1] C.-T. Chen, “Mathematical descriptions of Systems,” in Linear System Theory and design, New York, NY: Oxford university press, 2014, pp. 33–35. \n",
    "\n",
    "[2] “Inverted pendulum: System modeling,” Control Tutorials for MATLAB and Simulink - Inverted Pendulum: System Modeling. [Online]. Available: https://ctms.engin.umich.edu/CTMS/index.php?example=InvertedPendulum§ion=SystemModeling. [Accessed: 24-Apr-2022]. "
   ]
  }
 ],
 "metadata": {
  "kernelspec": {
   "display_name": "Python 3 (ipykernel)",
   "language": "python",
   "name": "python3"
  },
  "language_info": {
   "codemirror_mode": {
    "name": "ipython",
    "version": 3
   },
   "file_extension": ".py",
   "mimetype": "text/x-python",
   "name": "python",
   "nbconvert_exporter": "python",
   "pygments_lexer": "ipython3",
   "version": "3.9.10"
  },
  "toc-showmarkdowntxt": false
 },
 "nbformat": 4,
 "nbformat_minor": 5
}
